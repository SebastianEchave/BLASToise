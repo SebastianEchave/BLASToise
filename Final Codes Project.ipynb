{
 "cells": [
  {
   "cell_type": "markdown",
   "id": "b3b14d08-d4b6-465d-9cc2-b76d1fc1938b",
   "metadata": {},
   "source": [
    "Open your Anaconda Prompt and install biopython by entering:\n",
    "* pip install biopython  \n",
    "\n",
    "\n",
    "Additionally, install BLAST+ in your computer by executting the installer provided by the ftp link (https://ftp.ncbi.nlm.nih.gov/blast/executables/blast+/LATEST/https://ftp.ncbi.nlm.nih.gov/blast/executables/blast+/LATEST/) or provided by any of the members of our team (Windows only). Make sure you select a location that you can easily access in your directory"
   ]
  },
  {
   "cell_type": "code",
   "execution_count": null,
   "id": "9e75dd4a-34a7-4681-be34-38baa02a2e58",
   "metadata": {},
   "outputs": [],
   "source": []
  },
  {
   "cell_type": "markdown",
   "id": "dafa251c-ad98-48e0-a1c0-bf4c3072fc6d",
   "metadata": {},
   "source": [
    "This code will create the csv file containing the general taxa and id factors within each gbff file:\n",
    "\n",
    "* Make sure you correct the \"path\" to the location of the folders you wish to extract the content from\n",
    "* Make sure you correct the \"path\" to the destination you want the resulting product files to be in"
   ]
  },
  {
   "cell_type": "code",
   "execution_count": 8,
   "id": "d5a14218-d7a3-4d94-9c9e-6d9dbd01ce5f",
   "metadata": {
    "tags": []
   },
   "outputs": [],
   "source": [
    "import os\n",
    "import csv\n",
    "from Bio import SeqIO\n",
    "\n",
    "# Specify the path to the folder containing .gbff files (input) and the path to the output file:\n",
    "gbff_folder_path = r\"C:\\Users\\Owner\\OneDrive - University of Oklahoma\\Desktop\\Python test Director\\output_gbff_files\"\n",
    "\n",
    "output_csv_file = r\"C:\\Users\\Owner\\OneDrive - University of Oklahoma\\Desktop\\Python test Director\\gbff_info.csv\"\n",
    "\n",
    "# Create a list to store extracted information from the gbff files by using the following handle:\n",
    "def extract_and_save_gbff_info(folder_path, output_file):    \n",
    "    gbff_info = []\n",
    "\n",
    "    for filename in os.listdir(folder_path):\n",
    "        if filename.lower().endswith(\".gbff\"):\n",
    "            gbff_path = os.path.join(folder_path, filename)\n",
    " \n",
    "            for record in SeqIO.parse(gbff_path, \"genbank\"):                \n",
    "                organism_name = record.annotations.get(\"organism\", \"N/A\")\n",
    "                accession_number = record.id\n",
    "                description = record.description\n",
    "                total_length = len(record.seq)\n",
    "                \n",
    "                # Append the extracted information to the list\n",
    "                gbff_info.append([organism_name, filename, accession_number, description, total_length])\n",
    "\n",
    "    # Save the information to a CSV file\n",
    "    with open(output_file, 'w', newline='') as csvfile:\n",
    "        csv_writer = csv.writer(csvfile)\n",
    "        csv_writer.writerow([\"Organism Name\", \"File Name\", \"Accession Number\", \"Description\", \"Total Length\"])\n",
    "        csv_writer.writerows(gbff_info)\n",
    "\n",
    "if __name__ == \"__main__\":\n",
    "    extract_and_save_gbff_info(gbff_folder_path, output_csv_file)"
   ]
  },
  {
   "cell_type": "code",
   "execution_count": null,
   "id": "6fa9cc1e-5f2e-4a6a-8c87-147b8e8f7cc4",
   "metadata": {},
   "outputs": [],
   "source": []
  },
  {
   "cell_type": "markdown",
   "id": "500aaed1-da8b-4aa8-bb92-268e5a626bd6",
   "metadata": {},
   "source": [
    "The code below will create a csv list of the unique names of the chromosomal genebank, excluding individual entries for plasmids or phage entries that are segregated in the first csv file from the code above: "
   ]
  },
  {
   "cell_type": "code",
   "execution_count": 9,
   "id": "58b2217f-b867-4400-a0e4-e24b48bab49a",
   "metadata": {
    "tags": []
   },
   "outputs": [
    {
     "name": "stdout",
     "output_type": "stream",
     "text": [
      "CSV file sorted with no duplicates. Result saved to C:\\Users\\Owner\\OneDrive - University of Oklahoma\\Desktop\\Python test Director\\combined_targets_figures.csv.\n"
     ]
    }
   ],
   "source": [
    "import pandas as pd\n",
    "\n",
    "input_csv_path = r\"C:\\Users\\Owner\\OneDrive - University of Oklahoma\\Desktop\\Python test Director\\gbff_info.csv\"\n",
    "\n",
    "output_csv_path = r\"C:\\Users\\Owner\\OneDrive - University of Oklahoma\\Desktop\\Python test Director\\combined_targets_figures.csv\"\n",
    "\n",
    "# Create a data frame and sort by the specified column\n",
    "df = pd.read_csv(input_csv_path)\n",
    "df.sort_values(by='File Name', inplace=True)\n",
    "\n",
    "# Remove duplicate names\n",
    "df.drop_duplicates(subset='File Name', keep='first', inplace=True)\n",
    "df['File Name'] = df['File Name'].str.replace('.gbff', '')\n",
    "\n",
    "# Select the specific column you want to copy\n",
    "column_to_copy = 'File Name'\n",
    "selected_column = df[column_to_copy]\n",
    "\n",
    "# Create a new output DataFrame with the selected column\n",
    "new_df = pd.DataFrame({column_to_copy: selected_column})\n",
    "new_df.to_csv(output_csv_path, index=False)\n",
    "\n",
    "print(f\"CSV file sorted with no duplicates. Result saved to {output_csv_path}.\")"
   ]
  },
  {
   "cell_type": "code",
   "execution_count": null,
   "id": "9637fa26-98c8-4293-bcfd-e3113de99410",
   "metadata": {},
   "outputs": [],
   "source": []
  },
  {
   "cell_type": "markdown",
   "id": "2f210290-b997-484f-8c65-8ad8257fef4a",
   "metadata": {},
   "source": [
    "Code that will iterate trhough all the .gbff files and extract all the nucleic acid sequences with their assigned ID number and append them in text format into one FASTA file in your destination of choosing:\n"
   ]
  },
  {
   "cell_type": "code",
   "execution_count": 11,
   "id": "70f8db96-d2af-4d4e-a4f9-8ecd21b80a23",
   "metadata": {},
   "outputs": [
    {
     "name": "stdout",
     "output_type": "stream",
     "text": [
      "Combined genome sequences with file names and accession numbers saved to C:\\Users\\Owner\\OneDrive - University of Oklahoma\\Desktop\\Python test Director\\combined_genomes.fasta\n"
     ]
    }
   ],
   "source": [
    "import os\n",
    "from Bio import SeqIO\n",
    "\n",
    "gbff_folder = r\"C:\\Users\\Owner\\OneDrive - University of Oklahoma\\Desktop\\Python test Director\\output_gbff_files\"\n",
    "\n",
    "fasta_file = r\"C:\\Users\\Owner\\OneDrive - University of Oklahoma\\Desktop\\Python test Director\\combined_genomes.fasta\"\n",
    "\n",
    "# Create a list to store SeqRecord objects\n",
    "genome_records = []\n",
    "\n",
    "for filename in os.listdir(gbff_folder):\n",
    "    if filename.endswith(\".gbff\"):\n",
    "        gbff_file = os.path.join(gbff_folder, filename)\n",
    "        for gbff_record in SeqIO.parse(gbff_file, \"genbank\"):\n",
    "            accession_number = gbff_record.id\n",
    "            file_name = os.path.splitext(os.path.basename(gbff_file))[0]\n",
    "            genome_seq = gbff_record.seq\n",
    "            record_id = f\"{accession_number}_{file_name}\"\n",
    "            record = gbff_record.__class__(genome_seq, id=record_id, description=\"\")\n",
    "            genome_records.append(record)\n",
    "\n",
    "# Direct the combined genome sequences extracted from the gbff files to a FASTA file that will be used to make a data base\n",
    "with open(fasta_file, \"w\") as output_handle:\n",
    "    SeqIO.write(genome_records, output_handle, \"fasta\")\n",
    "\n",
    "print(f'Combined genome sequences with file names and accession numbers saved to {fasta_file}')"
   ]
  },
  {
   "cell_type": "code",
   "execution_count": null,
   "id": "50006b18-d70a-430a-8433-394a058b3b48",
   "metadata": {},
   "outputs": [],
   "source": []
  },
  {
   "cell_type": "markdown",
   "id": "1efef526-d098-4017-9a86-74e0648752a2",
   "metadata": {},
   "source": [
    "Open your annaconda prompt window and type the following entry to create a data base in your computer. Make sure that before you enter this command, you are happy with the directory is going to be saved in. You may change the \"in\" and \"out\" names of your files."
   ]
  },
  {
   "cell_type": "raw",
   "id": "3acc2557-8aa7-4fb4-ba5e-a63289b1c55f",
   "metadata": {},
   "source": [
    "makeblastdb -in combined_genomes.fasta -out MyDbGenomesTest"
   ]
  },
  {
   "cell_type": "markdown",
   "id": "9f0c2752-08ce-47bf-8705-fcda5ee9b37a",
   "metadata": {},
   "source": [
    "Following the creation of the data base, enter the following command to generate a blast.txt file:"
   ]
  },
  {
   "cell_type": "raw",
   "id": "83fe2ea8-0f51-40c6-bf2e-26e66c32dd73",
   "metadata": {},
   "source": [
    "blastn -query Intimin_receptor.fasta -db MyDbGenomesTest -evalue 0.0001 -out tir_Megablast_Results.txt -task megablast"
   ]
  },
  {
   "cell_type": "markdown",
   "id": "e7a7c5bc-09ab-4aeb-bbb4-813b21178cb0",
   "metadata": {},
   "source": [
    "The first part, \"blastn\" is specifying nucleotide blast, you may also use \"blastp\" for proteins, assuming of course you made your own data base using protein entries instead. \n",
    "* The \"query\" is indicating the name of the file that contains the sequence of your gene of interest that is going to be blasted agaianst your \"db\" entry (use the name of the data base that you entered in your \"makeblastdb\" command before. \n",
    "* You may specify different parameters to vary the quality and specificity of your blast, such as \"evalue\" or \"word_size\", in this case we limited to just evalue (The smaller the value, the more \"relevant identity\" there is compared to the size of your data base. You may delete this part if you want to use the default settings of the app)\n",
    "* Create the resulting blast file with \"out\". Make sure you specify the type of file you want your blast results to be. In this case, we made it a .txt file. \n",
    "* Finally, specify the task for the nucleotide blast, in this case, a \"megablast\". \n",
    "\n",
    "You should now have a .txt file with the relevant hits in your data base to your query."
   ]
  },
  {
   "cell_type": "code",
   "execution_count": null,
   "id": "559eb961-5d69-48f8-ab31-f8e02612b7f1",
   "metadata": {},
   "outputs": [],
   "source": []
  },
  {
   "cell_type": "markdown",
   "id": "fa7816f7-b2aa-4945-81ce-4b78579cf1b6",
   "metadata": {},
   "source": [
    "The code below is to be used after executing your local BLAST and creating a result.txt file. This code will read the file and extract essential information for the positive hits in the file based on your BLASTING parameters into a CSV file: "
   ]
  },
  {
   "cell_type": "code",
   "execution_count": 17,
   "id": "0dec6699-72b6-4819-90b7-77bf52c57edd",
   "metadata": {
    "tags": []
   },
   "outputs": [],
   "source": [
    "import pandas as pd\n",
    "delimiter = \">\"\n",
    "\n",
    "# Open the BLAST .txt file\n",
    "file_path = r\"C:\\Users\\Owner\\OneDrive - University of Oklahoma\\Desktop\\Python test Director\\stx2_Megablast_Results.txt\"\n",
    "with open(file_path, \"r\") as file:\n",
    "    file_content = file.read()\n",
    "    \n",
    "# Split the file content into sections using the delimiter\n",
    "sections = file_content.split(delimiter)\n",
    "\n",
    "gene_info_list = []\n",
    "\n",
    "# Initialize a counter to track the genome number\n",
    "gene_counter = 0\n",
    "for section in sections:\n",
    "    if not section:\n",
    "        continue  \n",
    "    info = {\"Name\": None, \"Score\": None, \"Expect\": None, \"Identities (%)\": None, \"Gaps\": None, \"Strand\": None}\n",
    "\n",
    "    lines = section.split(\"\\n\")   \n",
    "\n",
    "    if lines:\n",
    "        name_parts = lines[0].replace(\">\", \"\").split(\"_\", 1)\n",
    "        if len(name_parts) > 1:\n",
    "            info[\"Name\"] = name_parts[1].strip()\n",
    " \n",
    "    for line in lines:\n",
    "\n",
    "        if \"Score =\" in line:\n",
    "            score_info = line.split(\" bits\")\n",
    "            info[\"Score\"] = score_info[0].replace(\"Score =\", \"\").strip()\n",
    "            info[\"Expect\"] = score_info[1].split(\"=\")[1].strip()\n",
    "        elif \"Identities =\" in line:\n",
    "            # Extract the percentage portion\n",
    "            percentage_part = line.split(\"(\")[1].split(\"%\")[0].strip()\n",
    "            info[\"Identities (%)\"] = percentage_part\n",
    "            info[\"Gaps\"] = line.split(\"Gaps =\")[1].split(\"/\")[0].strip()\n",
    "        elif \"Strand=\" in line:\n",
    "            info[\"Strand\"] = line.split(\"Strand=\")[1].strip()\n",
    "\n",
    "    gene_info_list.append(info)\n",
    "\n",
    "df_gene = pd.DataFrame(gene_info_list)\n",
    "\n",
    "df_gene.to_csv(r\"C:\\Users\\Owner\\OneDrive - University of Oklahoma\\Desktop\\Python test Director\\stx2_results.csv\", index=False)"
   ]
  },
  {
   "cell_type": "code",
   "execution_count": null,
   "id": "b06e7980-fa20-4501-9edf-a0fd58086406",
   "metadata": {},
   "outputs": [],
   "source": []
  },
  {
   "cell_type": "code",
   "execution_count": 19,
   "id": "9ae32f02-aac3-49a0-befd-c420f409e213",
   "metadata": {
    "tags": []
   },
   "outputs": [
    {
     "name": "stdout",
     "output_type": "stream",
     "text": [
      "                               File Name eae Result tir Result Stx1 Result  \\\n",
      "0       GCA_000005845.2_ASM584v2_genomic   negative   negative    negative   \n",
      "1       GCA_000008865.2_ASM886v2_genomic   positive   positive    positive   \n",
      "2    GCA_003697165.2_ASM369716v2_genomic   negative   negative    negative   \n",
      "3    GCA_003966465.1_ASM396646v1_genomic   positive   positive    positive   \n",
      "4    GCA_004358405.1_ASM435840v1_genomic   positive   positive    positive   \n",
      "5   GCA_014058445.2_ASM1405844v2_genomic   positive   positive    positive   \n",
      "6   GCA_024300685.1_ASM2430068v1_genomic   positive   positive    positive   \n",
      "7   GCA_027925505.1_ASM2792550v1_genomic   positive   positive    positive   \n",
      "8   GCA_027925745.1_ASM2792574v1_genomic   positive   positive    positive   \n",
      "9   GCA_027925785.1_ASM2792578v1_genomic   positive   positive    positive   \n",
      "10  GCA_027925805.1_ASM2792580v1_genomic   positive   positive    positive   \n",
      "11  GCA_027925825.1_ASM2792582v1_genomic   positive   positive    positive   \n",
      "12  GCA_027925845.1_ASM2792584v1_genomic   positive   positive    positive   \n",
      "13  GCA_032382315.1_ASM3238231v1_genomic   negative   negative    negative   \n",
      "\n",
      "   Stx2 Result  \n",
      "0     negative  \n",
      "1     positive  \n",
      "2     negative  \n",
      "3     negative  \n",
      "4     negative  \n",
      "5     positive  \n",
      "6     positive  \n",
      "7     negative  \n",
      "8     negative  \n",
      "9     positive  \n",
      "10    positive  \n",
      "11    positive  \n",
      "12    positive  \n",
      "13    negative  \n"
     ]
    }
   ],
   "source": [
    "import pandas as pd\n",
    "\n",
    "# Load the CSV files into Pandas DataFrames\n",
    "df_gbff = pd.read_csv(r'C:\\Users\\Owner\\OneDrive - University of Oklahoma\\Desktop\\Python test Director\\combined_targets_figures.csv')\n",
    "df_eae = pd.read_csv(r\"C:\\Users\\Owner\\OneDrive - University of Oklahoma\\Desktop\\Python test Director\\eae_results.csv\")\n",
    "df_tir = pd.read_csv(r\"C:\\Users\\Owner\\OneDrive - University of Oklahoma\\Desktop\\Python test Director\\tir_results.csv\")\n",
    "df_stx1 = pd.read_csv(r\"C:\\Users\\Owner\\OneDrive - University of Oklahoma\\Desktop\\Python test Director\\stx1_results.csv\")\n",
    "df_stx2 = pd.read_csv(r\"C:\\Users\\Owner\\OneDrive - University of Oklahoma\\Desktop\\Python test Director\\stx2_results.csv\")\n",
    "\n",
    "# Extract the 'File Name' column from each DataFrame\n",
    "file_names_gbff = set(df_gbff['File Name'])\n",
    "file_names_eae = set(df_eae['Name'])\n",
    "file_names_tir = set(df_tir['Name'])\n",
    "file_names_stx1 = set(df_stx1['Name'])\n",
    "file_names_stx2 = set(df_stx2['Name'])\n",
    "\n",
    "df_gbff.sort_values(by='File Name', inplace=True)\n",
    "\n",
    "# Add a new column 'Result' to df_gbff with default value 'negative'\n",
    "df_gbff['eae Result'] = 'negative'\n",
    "df_gbff['tir Result'] = 'negative'\n",
    "df_gbff['Stx1 Result'] = 'negative'\n",
    "df_gbff['Stx2 Result'] = 'negative'\n",
    "\n",
    "# Update 'Result' column based on common 'File Name' between gbff and eae\n",
    "df_gbff.loc[df_gbff['File Name'].isin(file_names_eae), 'eae Result'] = 'positive'\n",
    "df_gbff.loc[df_gbff['File Name'].isin(file_names_tir), 'tir Result'] = 'positive'\n",
    "df_gbff.loc[df_gbff['File Name'].isin(file_names_stx1), 'Stx1 Result'] = 'positive'\n",
    "df_gbff.loc[df_gbff['File Name'].isin(file_names_stx2), 'Stx2 Result'] = 'positive'\n",
    "\n",
    "# Print the modified df_gbff DataFrame\n",
    "print(df_gbff)\n",
    "df_gbff.to_csv(r\"C:\\Users\\Owner\\OneDrive - University of Oklahoma\\Desktop\\Python test Director\\Target_results.csv\", index=False)"
   ]
  },
  {
   "cell_type": "code",
   "execution_count": null,
   "id": "74721954-bb75-44eb-9060-bd6707feada1",
   "metadata": {},
   "outputs": [],
   "source": []
  },
  {
   "cell_type": "markdown",
   "id": "6f786861-35b2-43e3-a77c-91f824c364ae",
   "metadata": {},
   "source": [
    "Below is a simple code that will count the number of positives and negatives in the data frame of the total hits for each target and creat a figure displaying the frequency of each individual gene to the total number of genomes in the data base:"
   ]
  },
  {
   "cell_type": "code",
   "execution_count": 21,
   "id": "2cf23e7a-8124-4eb4-9753-63b1e1e82a3e",
   "metadata": {
    "tags": []
   },
   "outputs": [
    {
     "data": {
      "image/png": "[encoded data removed]",
      "text/plain": [
       "<Figure size 1000x1000 with 1 Axes>"
      ]
     },
     "metadata": {},
     "output_type": "display_data"
    }
   ],
   "source": [
    "import matplotlib.pyplot as plt\n",
    "import numpy as np\n",
    "import pandas as pd\n",
    "\n",
    "# Read the CSV file into a DataFrame\n",
    "df_ALL = pd.read_csv(r'C:\\Users\\Owner\\OneDrive - University of Oklahoma\\Desktop\\Python test Director\\Target_results.csv')\n",
    "\n",
    "# Extract the 'eae Result' column from the DataFrame\n",
    "eae_results = df_ALL['eae Result']\n",
    "tir_results = df_ALL['tir Result']\n",
    "stx1_results = df_ALL['Stx1 Result']\n",
    "stx2_results = df_ALL['Stx2 Result']\n",
    "\n",
    "# Count the occurrences of 'positive' and 'negative' in each result column\n",
    "eae_positives = eae_results[eae_results == 'positive'].count()\n",
    "tir_positives = tir_results[tir_results == 'positive'].count()\n",
    "stx1_positives = stx1_results[stx1_results == 'positive'].count()\n",
    "stx2_positives = stx2_results[stx2_results == 'positive'].count()\n",
    "\n",
    "eae_negatives = len(eae_results) - eae_positives\n",
    "tir_negatives = len(tir_results) - tir_positives\n",
    "stx1_negatives = len(stx1_results) - stx1_positives\n",
    "stx2_negatives = len(stx2_results) - stx2_positives\n",
    "\n",
    "targets = ['eae', 'tir', 'stx1', 'stx2']\n",
    "positives = [eae_positives, tir_positives, stx1_positives, stx2_positives]\n",
    "negatives = [eae_negatives, tir_negatives, stx1_negatives, stx2_negatives]\n",
    "width = 0.5\n",
    "\n",
    "# Make a simple figure\n",
    "fig, ax = plt.subplots(figsize=(10, 10))\n",
    "\n",
    "# Create stacked bar chart\n",
    "bars_pos = ax.bar(targets, positives, width, label='positive')\n",
    "bars_neg = ax.bar(targets, negatives, width, bottom=positives, label='negative')\n",
    "\n",
    "# Add counts on top of the bars\n",
    "for bar in bars_pos + bars_neg:\n",
    "    yval = bar.get_height()\n",
    "    \n",
    "ax.set_title(\"Frequency of Four Genetic Targets\", fontsize = 20)\n",
    "ax.set_ylabel(\"Genomes\", fontsize = 16)\n",
    "ax.set_xlabel(\"Targets\", fontsize = 16)\n",
    "ax.legend()\n",
    "\n",
    "plt.savefig('Combined_results_bar_chart.png', bbox_inches='tight')\n",
    "plt.show()"
   ]
  },
  {
   "cell_type": "code",
   "execution_count": null,
   "id": "f51e877f-0551-409d-985d-4c608fa9a824",
   "metadata": {},
   "outputs": [],
   "source": []
  }
 ],
 "metadata": {
  "kernelspec": {
   "display_name": "Python 3 (ipykernel)",
   "language": "python",
   "name": "python3"
  },
  "language_info": {
   "codemirror_mode": {
    "name": "ipython",
    "version": 3
   },
   "file_extension": ".py",
   "mimetype": "text/x-python",
   "name": "python",
   "nbconvert_exporter": "python",
   "pygments_lexer": "ipython3",
   "version": "3.11.4"
  }
 },
 "nbformat": 4,
 "nbformat_minor": 5
}
